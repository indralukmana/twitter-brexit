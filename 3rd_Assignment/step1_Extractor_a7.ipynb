{
 "cells": [
  {
   "cell_type": "code",
   "execution_count": 1,
   "metadata": {
    "collapsed": true
   },
   "outputs": [],
   "source": [
    "import json\n",
    "import pandas as pd\n",
    "import numpy as np\n",
    "from pandas.io.json import json_normalize\n",
    "\n",
    "# Pandas by default limit the maximum columns display. This will remove the limit.\n",
    "pd.set_option('display.max_columns', None)\n",
    "\n",
    "tweets = []\n",
    "df = pd.DataFrame()"
   ]
  },
  {
   "cell_type": "code",
   "execution_count": 2,
   "metadata": {
    "collapsed": true
   },
   "outputs": [],
   "source": [
    "twitter_filename = \"2016-06-23:07:34:01.json\"\n",
    "twitter_file = open(twitter_filename, 'r')"
   ]
  },
  {
   "cell_type": "code",
   "execution_count": 3,
   "metadata": {
    "collapsed": true
   },
   "outputs": [],
   "source": [
    "selected_columns = ['id_str',\n",
    "                    'created_at', \n",
    "                    'text', \n",
    "                    'entities.hashtags', \n",
    "                    'lang',\n",
    "                    'user.screen_name', \n",
    "                    'user.id_str',\n",
    "                    'user.followers_count',\n",
    "                    'user.friends_count',\n",
    "                    'retweeted_status.id_str',\n",
    "                    'retweeted_status.created_at',\n",
    "                    'retweeted_status.text',\n",
    "                    'retweeted_status.entities.hashtags',\n",
    "                    'retweeted_status.lang',\n",
    "                    'retweeted_status.user.screen_name',\n",
    "                    'retweeted_status.user.id_str',\n",
    "                    'retweeted_status.user.followers_count',\n",
    "                    'retweeted_status.user.friends_count']"
   ]
  },
  {
   "cell_type": "code",
   "execution_count": 4,
   "metadata": {
    "collapsed": false
   },
   "outputs": [],
   "source": [
    "df_tweets = pd.DataFrame()\n",
    "with open(twitter_filename, 'r') as f:\n",
    "    for line in f:\n",
    "        tweet = json.loads(line)\n",
    "        df = json_normalize(tweet)\n",
    "        df_tweets = df_tweets.append(df.loc[:,selected_columns], ignore_index=True)"
   ]
  },
  {
   "cell_type": "code",
   "execution_count": 5,
   "metadata": {
    "collapsed": false
   },
   "outputs": [
    {
     "data": {
      "text/plain": [
       "id_str                                   86710\n",
       "created_at                               86710\n",
       "text                                     86710\n",
       "entities.hashtags                        86710\n",
       "lang                                     86710\n",
       "user.screen_name                         86710\n",
       "user.id_str                              86710\n",
       "user.followers_count                     86710\n",
       "user.friends_count                       86710\n",
       "retweeted_status.id_str                  50355\n",
       "retweeted_status.created_at              50355\n",
       "retweeted_status.text                    50355\n",
       "retweeted_status.entities.hashtags       50355\n",
       "retweeted_status.lang                    50355\n",
       "retweeted_status.user.screen_name        50355\n",
       "retweeted_status.user.id_str             50355\n",
       "retweeted_status.user.followers_count    50355\n",
       "retweeted_status.user.friends_count      50355\n",
       "dtype: int64"
      ]
     },
     "execution_count": 5,
     "metadata": {},
     "output_type": "execute_result"
    }
   ],
   "source": [
    "df_tweets.count()"
   ]
  },
  {
   "cell_type": "code",
   "execution_count": 6,
   "metadata": {
    "collapsed": false
   },
   "outputs": [],
   "source": [
    "#df_tweets.tail()"
   ]
  },
  {
   "cell_type": "code",
   "execution_count": 7,
   "metadata": {
    "collapsed": true
   },
   "outputs": [],
   "source": [
    "def convert_hashtags(entries):\n",
    "    hashtags = []\n",
    "#     print (entries)\n",
    "    if (entries != \"NO HASHTAGS\"): \n",
    "        if (len(entries) == 0):\n",
    "            return \"NO HASHTAGS\"\n",
    "        else:\n",
    "            for entry in entries: # for each line in our input\n",
    "    #             print(entry['text'])\n",
    "    #             for ht in entry: # for every hashtag in each line\n",
    "    #                 print (ht)\n",
    "                hashtags.append(entry['text'])\n",
    "            return hashtags\n",
    "    else:\n",
    "        return \"NO HASHTAGS\""
   ]
  },
  {
   "cell_type": "code",
   "execution_count": 8,
   "metadata": {
    "collapsed": true
   },
   "outputs": [],
   "source": [
    "df_tweets['entities.hashtags'] = df_tweets['entities.hashtags'].astype('object').fillna(\"No Hashtags\")\n",
    "df_tweets['retweeted_status.entities.hashtags'] = df_tweets['retweeted_status.entities.hashtags'].astype('object').fillna(\"NO HASHTAGS\")\n"
   ]
  },
  {
   "cell_type": "code",
   "execution_count": 9,
   "metadata": {
    "collapsed": false
   },
   "outputs": [],
   "source": [
    "df_tweets['retweeted_status.entities.hashtags'] = df_tweets['retweeted_status.entities.hashtags'].apply(lambda row: convert_hashtags(row))\n",
    "df_tweets['entities.hashtags'] = df_tweets['entities.hashtags'].apply(lambda row: convert_hashtags(row))"
   ]
  },
  {
   "cell_type": "code",
   "execution_count": 10,
   "metadata": {
    "collapsed": false
   },
   "outputs": [],
   "source": [
    "df_tweets.to_csv(\"export_2016062308.csv\", sep=',', encoding='utf-8')"
   ]
  },
  {
   "cell_type": "code",
   "execution_count": 11,
   "metadata": {
    "collapsed": false
   },
   "outputs": [
    {
     "name": "stderr",
     "output_type": "stream",
     "text": [
      "/Users/ikibozu/miniconda2/envs/mlp/lib/python2.7/site-packages/IPython/core/interactiveshell.py:2717: DtypeWarning: Columns (0,1,2,3,4,5,6,8,9,10,11,12,13,14,15) have mixed types. Specify dtype option on import or set low_memory=False.\n",
      "  interactivity=interactivity, compiler=compiler, result=result)\n"
     ]
    }
   ],
   "source": [
    "df_tweets2 = pd.read_csv('export_2016062308.csv', index_col = 0)"
   ]
  },
  {
   "cell_type": "code",
   "execution_count": 12,
   "metadata": {
    "collapsed": false
   },
   "outputs": [
    {
     "data": {
      "text/plain": [
       "0        Thu Jun 23 06:34:04 +0000 2016\n",
       "1        Thu Jun 23 06:34:03 +0000 2016\n",
       "2        Thu Jun 23 06:34:04 +0000 2016\n",
       "3        Thu Jun 23 06:34:04 +0000 2016\n",
       "4        Thu Jun 23 06:34:04 +0000 2016\n",
       "5        Thu Jun 23 06:34:04 +0000 2016\n",
       "6        Thu Jun 23 06:34:04 +0000 2016\n",
       "7        Thu Jun 23 06:34:04 +0000 2016\n",
       "8        Thu Jun 23 06:34:04 +0000 2016\n",
       "9        Thu Jun 23 06:34:04 +0000 2016\n",
       "10       Thu Jun 23 06:34:04 +0000 2016\n",
       "11       Thu Jun 23 06:34:04 +0000 2016\n",
       "12       Thu Jun 23 06:34:05 +0000 2016\n",
       "13       Thu Jun 23 06:34:05 +0000 2016\n",
       "14       Thu Jun 23 06:34:05 +0000 2016\n",
       "15       Thu Jun 23 06:34:05 +0000 2016\n",
       "16       Thu Jun 23 06:34:05 +0000 2016\n",
       "17       Thu Jun 23 06:34:05 +0000 2016\n",
       "18       Thu Jun 23 06:34:05 +0000 2016\n",
       "19       Thu Jun 23 06:34:05 +0000 2016\n",
       "20       Thu Jun 23 06:34:05 +0000 2016\n",
       "21       Thu Jun 23 06:34:05 +0000 2016\n",
       "22       Thu Jun 23 06:34:05 +0000 2016\n",
       "23       Thu Jun 23 06:34:05 +0000 2016\n",
       "24       Thu Jun 23 06:34:05 +0000 2016\n",
       "25       Thu Jun 23 06:34:05 +0000 2016\n",
       "26       Thu Jun 23 06:34:05 +0000 2016\n",
       "27       Thu Jun 23 06:34:05 +0000 2016\n",
       "28       Thu Jun 23 06:34:05 +0000 2016\n",
       "29       Thu Jun 23 06:34:05 +0000 2016\n",
       "                      ...              \n",
       "86680    Thu Jun 23 07:33:59 +0000 2016\n",
       "86681    Thu Jun 23 07:33:59 +0000 2016\n",
       "86682    Thu Jun 23 07:33:59 +0000 2016\n",
       "86683    Thu Jun 23 07:34:00 +0000 2016\n",
       "86684    Thu Jun 23 07:33:59 +0000 2016\n",
       "86685    Thu Jun 23 07:33:59 +0000 2016\n",
       "86686    Thu Jun 23 07:34:00 +0000 2016\n",
       "86687    Thu Jun 23 07:34:00 +0000 2016\n",
       "86688    Thu Jun 23 07:34:00 +0000 2016\n",
       "86689    Thu Jun 23 07:34:00 +0000 2016\n",
       "86690    Thu Jun 23 07:34:00 +0000 2016\n",
       "86691    Thu Jun 23 07:34:00 +0000 2016\n",
       "86692    Thu Jun 23 07:34:00 +0000 2016\n",
       "86693    Thu Jun 23 07:34:00 +0000 2016\n",
       "86694    Thu Jun 23 07:34:00 +0000 2016\n",
       "86695    Thu Jun 23 07:34:00 +0000 2016\n",
       "86696    Thu Jun 23 07:34:00 +0000 2016\n",
       "86697    Thu Jun 23 07:34:00 +0000 2016\n",
       "86698    Thu Jun 23 07:34:00 +0000 2016\n",
       "86699    Thu Jun 23 07:34:00 +0000 2016\n",
       "86700    Thu Jun 23 07:34:00 +0000 2016\n",
       "86701    Thu Jun 23 07:34:00 +0000 2016\n",
       "86702    Thu Jun 23 07:34:00 +0000 2016\n",
       "86703    Thu Jun 23 07:34:00 +0000 2016\n",
       "86704    Thu Jun 23 07:34:00 +0000 2016\n",
       "86705    Thu Jun 23 07:34:00 +0000 2016\n",
       "86706    Thu Jun 23 07:34:00 +0000 2016\n",
       "86707    Thu Jun 23 07:34:00 +0000 2016\n",
       "86708    Thu Jun 23 07:34:00 +0000 2016\n",
       "86709    Thu Jun 23 07:34:00 +0000 2016\n",
       "Name: created_at, Length: 208349, dtype: object"
      ]
     },
     "execution_count": 12,
     "metadata": {},
     "output_type": "execute_result"
    }
   ],
   "source": [
    "df_tweets2['created_at']"
   ]
  },
  {
   "cell_type": "code",
   "execution_count": null,
   "metadata": {
    "collapsed": true
   },
   "outputs": [],
   "source": []
  }
 ],
 "metadata": {
  "anaconda-cloud": {},
  "kernelspec": {
   "display_name": "Python [conda env:mlp]",
   "language": "python",
   "name": "conda-env-mlp-py"
  },
  "language_info": {
   "codemirror_mode": {
    "name": "ipython",
    "version": 2
   },
   "file_extension": ".py",
   "mimetype": "text/x-python",
   "name": "python",
   "nbconvert_exporter": "python",
   "pygments_lexer": "ipython2",
   "version": "2.7.12"
  }
 },
 "nbformat": 4,
 "nbformat_minor": 2
}
