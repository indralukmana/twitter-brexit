{
 "cells": [
  {
   "cell_type": "markdown",
   "metadata": {},
   "source": [
    "Import packages"
   ]
  },
  {
   "cell_type": "code",
   "execution_count": 3,
   "metadata": {},
   "outputs": [],
   "source": [
    "import numpy as np\n",
    "import pandas as pd\n",
    "import matplotlib.pyplot as plt\n",
    "import seaborn as sns"
   ]
  },
  {
   "cell_type": "markdown",
   "metadata": {},
   "source": [
    "Set inline"
   ]
  },
  {
   "cell_type": "code",
   "execution_count": 4,
   "metadata": {},
   "outputs": [],
   "source": [
    "%matplotlib inline"
   ]
  },
  {
   "cell_type": "markdown",
   "metadata": {},
   "source": [
    "Import CSV to dataframe"
   ]
  },
  {
   "cell_type": "code",
   "execution_count": 7,
   "metadata": {},
   "outputs": [],
   "source": [
    "filename = 'export_dummy.csv'\n",
    "df = pd.read_csv(filename, index_col=0)"
   ]
  },
  {
   "cell_type": "code",
   "execution_count": 13,
   "metadata": {},
   "outputs": [
    {
     "data": {
      "text/html": [
       "<div>\n",
       "<style>\n",
       "    .dataframe thead tr:only-child th {\n",
       "        text-align: right;\n",
       "    }\n",
       "\n",
       "    .dataframe thead th {\n",
       "        text-align: left;\n",
       "    }\n",
       "\n",
       "    .dataframe tbody tr th {\n",
       "        vertical-align: top;\n",
       "    }\n",
       "</style>\n",
       "<table border=\"1\" class=\"dataframe\">\n",
       "  <thead>\n",
       "    <tr style=\"text-align: right;\">\n",
       "      <th></th>\n",
       "      <th>id_str</th>\n",
       "      <th>created_at</th>\n",
       "      <th>text</th>\n",
       "      <th>entities.hashtags</th>\n",
       "      <th>lang</th>\n",
       "      <th>user.screen_name</th>\n",
       "      <th>user.id_str</th>\n",
       "      <th>user.followers_count</th>\n",
       "      <th>user.friends_count</th>\n",
       "      <th>retweeted_status.id_str</th>\n",
       "      <th>...</th>\n",
       "      <th>retweeted_status.entities.hashtags</th>\n",
       "      <th>retweeted_status.lang</th>\n",
       "      <th>retweeted_status.user.screen_name</th>\n",
       "      <th>retweeted_status.user.id_str</th>\n",
       "      <th>retweeted_status.user.followers_count</th>\n",
       "      <th>retweeted_status.user.friends_count</th>\n",
       "      <th>sentiment</th>\n",
       "      <th>sentiment_ori</th>\n",
       "      <th>bot_status</th>\n",
       "      <th>bot_ori_status</th>\n",
       "    </tr>\n",
       "  </thead>\n",
       "  <tbody>\n",
       "    <tr>\n",
       "      <th>0</th>\n",
       "      <td>911048657474113536</td>\n",
       "      <td>Fri Sep 22 02:05:01 +0000 2017</td>\n",
       "      <td>EuropeUnion : Click HERE▶️https://t.co/iwDoMV6...</td>\n",
       "      <td>['EU', 'News', 'EuropeUnion']</td>\n",
       "      <td>fr</td>\n",
       "      <td>nathymora</td>\n",
       "      <td>308046422</td>\n",
       "      <td>611</td>\n",
       "      <td>404</td>\n",
       "      <td>NaN</td>\n",
       "      <td>...</td>\n",
       "      <td>NO HASHTAGS</td>\n",
       "      <td>NaN</td>\n",
       "      <td>NaN</td>\n",
       "      <td>NaN</td>\n",
       "      <td>NaN</td>\n",
       "      <td>NaN</td>\n",
       "      <td>0.823204</td>\n",
       "      <td>0.889909</td>\n",
       "      <td>0.032754</td>\n",
       "      <td>0.025925</td>\n",
       "    </tr>\n",
       "    <tr>\n",
       "      <th>1</th>\n",
       "      <td>911048676205826048</td>\n",
       "      <td>Fri Sep 22 02:05:05 +0000 2017</td>\n",
       "      <td>Click HERE▶️https://t.co/Y3loSofx8E\\n#EU #News...</td>\n",
       "      <td>['EU', 'News', 'EuropeUnion']</td>\n",
       "      <td>en</td>\n",
       "      <td>EuropeUnion</td>\n",
       "      <td>194119186</td>\n",
       "      <td>9489</td>\n",
       "      <td>586</td>\n",
       "      <td>NaN</td>\n",
       "      <td>...</td>\n",
       "      <td>NO HASHTAGS</td>\n",
       "      <td>NaN</td>\n",
       "      <td>NaN</td>\n",
       "      <td>NaN</td>\n",
       "      <td>NaN</td>\n",
       "      <td>NaN</td>\n",
       "      <td>0.601482</td>\n",
       "      <td>-0.054060</td>\n",
       "      <td>0.360294</td>\n",
       "      <td>0.887084</td>\n",
       "    </tr>\n",
       "    <tr>\n",
       "      <th>2</th>\n",
       "      <td>911048690529431552</td>\n",
       "      <td>Fri Sep 22 02:05:08 +0000 2017</td>\n",
       "      <td>EuropeUnion : Click HERE▶️https://t.co/hWrKk2Z...</td>\n",
       "      <td>['EU', 'News', 'EuropeUnion']</td>\n",
       "      <td>en</td>\n",
       "      <td>nathymora</td>\n",
       "      <td>308046422</td>\n",
       "      <td>611</td>\n",
       "      <td>404</td>\n",
       "      <td>NaN</td>\n",
       "      <td>...</td>\n",
       "      <td>NO HASHTAGS</td>\n",
       "      <td>NaN</td>\n",
       "      <td>NaN</td>\n",
       "      <td>NaN</td>\n",
       "      <td>NaN</td>\n",
       "      <td>NaN</td>\n",
       "      <td>-0.166085</td>\n",
       "      <td>-0.275917</td>\n",
       "      <td>0.048649</td>\n",
       "      <td>0.413533</td>\n",
       "    </tr>\n",
       "    <tr>\n",
       "      <th>3</th>\n",
       "      <td>911048692567760896</td>\n",
       "      <td>Fri Sep 22 02:05:09 +0000 2017</td>\n",
       "      <td>RT @tsemtulku: Three art styles to see! https:...</td>\n",
       "      <td>['buddhism', 'buddhist', 'europe', 'canada', '...</td>\n",
       "      <td>en</td>\n",
       "      <td>KumarTa69783205</td>\n",
       "      <td>882043107776184320</td>\n",
       "      <td>18</td>\n",
       "      <td>56</td>\n",
       "      <td>9.099393e+17</td>\n",
       "      <td>...</td>\n",
       "      <td>['buddhism', 'buddhist', 'europe', 'canada', '...</td>\n",
       "      <td>en</td>\n",
       "      <td>tsemtulku</td>\n",
       "      <td>23065876.0</td>\n",
       "      <td>452447.0</td>\n",
       "      <td>169.0</td>\n",
       "      <td>0.460622</td>\n",
       "      <td>0.206314</td>\n",
       "      <td>0.199692</td>\n",
       "      <td>0.920356</td>\n",
       "    </tr>\n",
       "    <tr>\n",
       "      <th>4</th>\n",
       "      <td>911048712570462210</td>\n",
       "      <td>Fri Sep 22 02:05:14 +0000 2017</td>\n",
       "      <td>Thread. #Brexit https://t.co/oG4MqhTJMt</td>\n",
       "      <td>['Brexit']</td>\n",
       "      <td>en</td>\n",
       "      <td>SergioTavaresUK</td>\n",
       "      <td>2178018878</td>\n",
       "      <td>203</td>\n",
       "      <td>418</td>\n",
       "      <td>NaN</td>\n",
       "      <td>...</td>\n",
       "      <td>NO HASHTAGS</td>\n",
       "      <td>NaN</td>\n",
       "      <td>NaN</td>\n",
       "      <td>NaN</td>\n",
       "      <td>NaN</td>\n",
       "      <td>NaN</td>\n",
       "      <td>-0.489391</td>\n",
       "      <td>0.806878</td>\n",
       "      <td>0.019213</td>\n",
       "      <td>0.263571</td>\n",
       "    </tr>\n",
       "  </tbody>\n",
       "</table>\n",
       "<p>5 rows × 22 columns</p>\n",
       "</div>"
      ],
      "text/plain": [
       "               id_str                      created_at  \\\n",
       "0  911048657474113536  Fri Sep 22 02:05:01 +0000 2017   \n",
       "1  911048676205826048  Fri Sep 22 02:05:05 +0000 2017   \n",
       "2  911048690529431552  Fri Sep 22 02:05:08 +0000 2017   \n",
       "3  911048692567760896  Fri Sep 22 02:05:09 +0000 2017   \n",
       "4  911048712570462210  Fri Sep 22 02:05:14 +0000 2017   \n",
       "\n",
       "                                                text  \\\n",
       "0  EuropeUnion : Click HERE▶️https://t.co/iwDoMV6...   \n",
       "1  Click HERE▶️https://t.co/Y3loSofx8E\\n#EU #News...   \n",
       "2  EuropeUnion : Click HERE▶️https://t.co/hWrKk2Z...   \n",
       "3  RT @tsemtulku: Three art styles to see! https:...   \n",
       "4            Thread. #Brexit https://t.co/oG4MqhTJMt   \n",
       "\n",
       "                                   entities.hashtags lang user.screen_name  \\\n",
       "0                      ['EU', 'News', 'EuropeUnion']   fr        nathymora   \n",
       "1                      ['EU', 'News', 'EuropeUnion']   en      EuropeUnion   \n",
       "2                      ['EU', 'News', 'EuropeUnion']   en        nathymora   \n",
       "3  ['buddhism', 'buddhist', 'europe', 'canada', '...   en  KumarTa69783205   \n",
       "4                                         ['Brexit']   en  SergioTavaresUK   \n",
       "\n",
       "          user.id_str  user.followers_count  user.friends_count  \\\n",
       "0           308046422                   611                 404   \n",
       "1           194119186                  9489                 586   \n",
       "2           308046422                   611                 404   \n",
       "3  882043107776184320                    18                  56   \n",
       "4          2178018878                   203                 418   \n",
       "\n",
       "   retweeted_status.id_str       ...        \\\n",
       "0                      NaN       ...         \n",
       "1                      NaN       ...         \n",
       "2                      NaN       ...         \n",
       "3             9.099393e+17       ...         \n",
       "4                      NaN       ...         \n",
       "\n",
       "                  retweeted_status.entities.hashtags retweeted_status.lang  \\\n",
       "0                                        NO HASHTAGS                   NaN   \n",
       "1                                        NO HASHTAGS                   NaN   \n",
       "2                                        NO HASHTAGS                   NaN   \n",
       "3  ['buddhism', 'buddhist', 'europe', 'canada', '...                    en   \n",
       "4                                        NO HASHTAGS                   NaN   \n",
       "\n",
       "  retweeted_status.user.screen_name retweeted_status.user.id_str  \\\n",
       "0                               NaN                          NaN   \n",
       "1                               NaN                          NaN   \n",
       "2                               NaN                          NaN   \n",
       "3                         tsemtulku                   23065876.0   \n",
       "4                               NaN                          NaN   \n",
       "\n",
       "  retweeted_status.user.followers_count  retweeted_status.user.friends_count  \\\n",
       "0                                   NaN                                  NaN   \n",
       "1                                   NaN                                  NaN   \n",
       "2                                   NaN                                  NaN   \n",
       "3                              452447.0                                169.0   \n",
       "4                                   NaN                                  NaN   \n",
       "\n",
       "   sentiment  sentiment_ori  bot_status  bot_ori_status  \n",
       "0   0.823204       0.889909    0.032754        0.025925  \n",
       "1   0.601482      -0.054060    0.360294        0.887084  \n",
       "2  -0.166085      -0.275917    0.048649        0.413533  \n",
       "3   0.460622       0.206314    0.199692        0.920356  \n",
       "4  -0.489391       0.806878    0.019213        0.263571  \n",
       "\n",
       "[5 rows x 22 columns]"
      ]
     },
     "execution_count": 13,
     "metadata": {},
     "output_type": "execute_result"
    }
   ],
   "source": [
    "df.head()"
   ]
  },
  {
   "cell_type": "code",
   "execution_count": 31,
   "metadata": {},
   "outputs": [
    {
     "data": {
      "text/html": [
       "<div>\n",
       "<style>\n",
       "    .dataframe thead tr:only-child th {\n",
       "        text-align: right;\n",
       "    }\n",
       "\n",
       "    .dataframe thead th {\n",
       "        text-align: left;\n",
       "    }\n",
       "\n",
       "    .dataframe tbody tr th {\n",
       "        vertical-align: top;\n",
       "    }\n",
       "</style>\n",
       "<table border=\"1\" class=\"dataframe\">\n",
       "  <thead>\n",
       "    <tr style=\"text-align: right;\">\n",
       "      <th></th>\n",
       "      <th>entities.hashtags</th>\n",
       "      <th>bot_status</th>\n",
       "      <th>bot_ori_status</th>\n",
       "    </tr>\n",
       "  </thead>\n",
       "  <tbody>\n",
       "    <tr>\n",
       "      <th>0</th>\n",
       "      <td>['EU', 'News', 'EuropeUnion']</td>\n",
       "      <td>0.032754</td>\n",
       "      <td>0.025925</td>\n",
       "    </tr>\n",
       "    <tr>\n",
       "      <th>1</th>\n",
       "      <td>['EU', 'News', 'EuropeUnion']</td>\n",
       "      <td>0.360294</td>\n",
       "      <td>0.887084</td>\n",
       "    </tr>\n",
       "    <tr>\n",
       "      <th>2</th>\n",
       "      <td>['EU', 'News', 'EuropeUnion']</td>\n",
       "      <td>0.048649</td>\n",
       "      <td>0.413533</td>\n",
       "    </tr>\n",
       "    <tr>\n",
       "      <th>3</th>\n",
       "      <td>['buddhism', 'buddhist', 'europe', 'canada', '...</td>\n",
       "      <td>0.199692</td>\n",
       "      <td>0.920356</td>\n",
       "    </tr>\n",
       "    <tr>\n",
       "      <th>4</th>\n",
       "      <td>['Brexit']</td>\n",
       "      <td>0.019213</td>\n",
       "      <td>0.263571</td>\n",
       "    </tr>\n",
       "  </tbody>\n",
       "</table>\n",
       "</div>"
      ],
      "text/plain": [
       "                                   entities.hashtags  bot_status  \\\n",
       "0                      ['EU', 'News', 'EuropeUnion']    0.032754   \n",
       "1                      ['EU', 'News', 'EuropeUnion']    0.360294   \n",
       "2                      ['EU', 'News', 'EuropeUnion']    0.048649   \n",
       "3  ['buddhism', 'buddhist', 'europe', 'canada', '...    0.199692   \n",
       "4                                         ['Brexit']    0.019213   \n",
       "\n",
       "   bot_ori_status  \n",
       "0        0.025925  \n",
       "1        0.887084  \n",
       "2        0.413533  \n",
       "3        0.920356  \n",
       "4        0.263571  "
      ]
     },
     "execution_count": 31,
     "metadata": {},
     "output_type": "execute_result"
    }
   ],
   "source": [
    "df[['entities.hashtags', 'bot_status', 'bot_ori_status']].head()"
   ]
  },
  {
   "cell_type": "code",
   "execution_count": 32,
   "metadata": {},
   "outputs": [
    {
     "data": {
      "text/plain": [
       "<matplotlib.axes._subplots.AxesSubplot at 0x10fbb58d0>"
      ]
     },
     "execution_count": 32,
     "metadata": {},
     "output_type": "execute_result"
    },
    {
     "data": {
      "image/png": "[encoded data removed]",
      "text/plain": [
       "<matplotlib.figure.Figure at 0x10fb88400>"
      ]
     },
     "metadata": {},
     "output_type": "display_data"
    }
   ],
   "source": [
    "sns.distplot(df['bot_status'])"
   ]
  },
  {
   "cell_type": "markdown",
   "metadata": {},
   "source": [
    "Set 0.6 as the threshold of robot or human. Above 0.6 is bot and below 0.6 is human."
   ]
  },
  {
   "cell_type": "code",
   "execution_count": 44,
   "metadata": {},
   "outputs": [],
   "source": [
    "bot_count = len(df[df['bot_status'] > 0.6])\n",
    "bot_ori_count = len(df[df['bot_ori_status'] > 0.6])\n",
    "\n",
    "human_count = len(df) - bot_count\n",
    "human_ori_count = len(df) - bot_ori_count"
   ]
  },
  {
   "cell_type": "markdown",
   "metadata": {},
   "source": [
    "This is pie chart showing the comparison between bot and human who tweet and discuss about brexit"
   ]
  },
  {
   "cell_type": "code",
   "execution_count": 55,
   "metadata": {},
   "outputs": [
    {
     "data": {
      "image/png": "[encoded data removed]",
      "text/plain": [
       "<matplotlib.figure.Figure at 0x10a44f7b8>"
      ]
     },
     "metadata": {},
     "output_type": "display_data"
    }
   ],
   "source": [
    "bot_vs_human_labels = ['Bot', 'Human']\n",
    "bot_vs_human_data = [bot_count, human_count]\n",
    "colors = ['lightskyblue', 'gold']\n",
    "\n",
    "plt.pie(bot_vs_human_data, \n",
    "        labels = bot_vs_human_labels,\n",
    "        colors = colors,\n",
    "        autopct = '%1.1f%%',\n",
    "        shadow = True,\n",
    "        startangle = 0)\n",
    "plt.axis('equal')\n",
    "plt.show()"
   ]
  },
  {
   "cell_type": "markdown",
   "metadata": {},
   "source": [
    "This is pie chart showing comparison between bot and human who got retweeted in brexit discussion"
   ]
  },
  {
   "cell_type": "code",
   "execution_count": 56,
   "metadata": {
    "scrolled": true
   },
   "outputs": [
    {
     "data": {
      "image/png": "[encoded data removed]",
      "text/plain": [
       "<matplotlib.figure.Figure at 0x10a4aebe0>"
      ]
     },
     "metadata": {},
     "output_type": "display_data"
    }
   ],
   "source": [
    "bot_vs_human_labels = ['Retweeted Bot', ' Retweeted Human']\n",
    "bot_vs_human_data = [bot_ori_count, human_ori_count]\n",
    "colors = ['lightskyblue', 'gold']\n",
    "\n",
    "plt.pie(bot_vs_human_data, \n",
    "        labels = bot_vs_human_labels,\n",
    "        colors = colors,\n",
    "        autopct = '%1.1f%%',\n",
    "        shadow = True,\n",
    "        startangle = 0)\n",
    "plt.axis('equal')\n",
    "plt.show()"
   ]
  }
 ],
 "metadata": {
  "kernelspec": {
   "display_name": "Python 3",
   "language": "python",
   "name": "python3"
  },
  "language_info": {
   "codemirror_mode": {
    "name": "ipython",
    "version": 3
   },
   "file_extension": ".py",
   "mimetype": "text/x-python",
   "name": "python",
   "nbconvert_exporter": "python",
   "pygments_lexer": "ipython3",
   "version": "3.6.3"
  }
 },
 "nbformat": 4,
 "nbformat_minor": 2
}
