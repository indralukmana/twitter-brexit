{
 "cells": [
  {
   "cell_type": "code",
   "execution_count": 1,
   "metadata": {
    "collapsed": false
   },
   "outputs": [
    {
     "name": "stderr",
     "output_type": "stream",
     "text": [
      "/Users/ikibozu/miniconda2/envs/mlp/lib/python2.7/site-packages/IPython/core/interactiveshell.py:2717: DtypeWarning: Columns (0,1,2,3,4,5,6,8,9,10,11,12,13,14,15) have mixed types. Specify dtype option on import or set low_memory=False.\n",
      "  interactivity=interactivity, compiler=compiler, result=result)\n"
     ]
    }
   ],
   "source": [
    "import json\n",
    "import pandas as pd\n",
    "import numpy as np\n",
    "from pandas.io.json import json_normalize\n",
    "\n",
    "input_file='export_2016062308.csv'\n",
    "bot_data = pd.DataFrame()\n",
    "bot_data = pd.read_csv(input_file, index_col = 0)[['user.screen_name', 'retweeted_status.user.screen_name']]"
   ]
  },
  {
   "cell_type": "code",
   "execution_count": 2,
   "metadata": {
    "collapsed": false
   },
   "outputs": [
    {
     "data": {
      "text/html": [
       "<div>\n",
       "<style>\n",
       "    .dataframe thead tr:only-child th {\n",
       "        text-align: right;\n",
       "    }\n",
       "\n",
       "    .dataframe thead th {\n",
       "        text-align: left;\n",
       "    }\n",
       "\n",
       "    .dataframe tbody tr th {\n",
       "        vertical-align: top;\n",
       "    }\n",
       "</style>\n",
       "<table border=\"1\" class=\"dataframe\">\n",
       "  <thead>\n",
       "    <tr style=\"text-align: right;\">\n",
       "      <th></th>\n",
       "      <th>user.screen_name</th>\n",
       "      <th>retweeted_status.user.screen_name</th>\n",
       "    </tr>\n",
       "  </thead>\n",
       "  <tbody>\n",
       "    <tr>\n",
       "      <th>0</th>\n",
       "      <td>badbobyoung</td>\n",
       "      <td>NaN</td>\n",
       "    </tr>\n",
       "    <tr>\n",
       "      <th>1</th>\n",
       "      <td>thecolleencg</td>\n",
       "      <td>NaN</td>\n",
       "    </tr>\n",
       "    <tr>\n",
       "      <th>2</th>\n",
       "      <td>nigelfletcher</td>\n",
       "      <td>GreenwichInEU</td>\n",
       "    </tr>\n",
       "    <tr>\n",
       "      <th>3</th>\n",
       "      <td>olivioromanini</td>\n",
       "      <td>NaN</td>\n",
       "    </tr>\n",
       "    <tr>\n",
       "      <th>4</th>\n",
       "      <td>Samhainix</td>\n",
       "      <td>Archangelolill</td>\n",
       "    </tr>\n",
       "  </tbody>\n",
       "</table>\n",
       "</div>"
      ],
      "text/plain": [
       "  user.screen_name retweeted_status.user.screen_name\n",
       "0      badbobyoung                               NaN\n",
       "1     thecolleencg                               NaN\n",
       "2    nigelfletcher                     GreenwichInEU\n",
       "3   olivioromanini                               NaN\n",
       "4        Samhainix                    Archangelolill"
      ]
     },
     "execution_count": 2,
     "metadata": {},
     "output_type": "execute_result"
    }
   ],
   "source": [
    "bot_data.head()"
   ]
  },
  {
   "cell_type": "code",
   "execution_count": 3,
   "metadata": {
    "collapsed": false
   },
   "outputs": [
    {
     "name": "stdout",
     "output_type": "stream",
     "text": [
      "208349\n"
     ]
    }
   ],
   "source": [
    "print(len(bot_data))"
   ]
  },
  {
   "cell_type": "code",
   "execution_count": 4,
   "metadata": {
    "collapsed": false
   },
   "outputs": [],
   "source": [
    "distinct_uname_rs=bot_data[bot_data['retweeted_status.user.screen_name'].notnull()]['retweeted_status.user.screen_name'].drop_duplicates()"
   ]
  },
  {
   "cell_type": "code",
   "execution_count": 5,
   "metadata": {
    "collapsed": false
   },
   "outputs": [],
   "source": [
    "distinct_uname_sn=bot_data[bot_data['user.screen_name'].notnull()]['user.screen_name'].drop_duplicates()"
   ]
  },
  {
   "cell_type": "code",
   "execution_count": 6,
   "metadata": {
    "collapsed": false
   },
   "outputs": [
    {
     "name": "stdout",
     "output_type": "stream",
     "text": [
      "('count rs', 10493)\n"
     ]
    }
   ],
   "source": [
    "print(\"count rs\",len(distinct_uname_rs))"
   ]
  },
  {
   "cell_type": "code",
   "execution_count": 7,
   "metadata": {
    "collapsed": false
   },
   "outputs": [
    {
     "name": "stdout",
     "output_type": "stream",
     "text": [
      "('count sn', 53310)\n"
     ]
    }
   ],
   "source": [
    "print(\"count sn\",len(distinct_uname_sn))"
   ]
  },
  {
   "cell_type": "code",
   "execution_count": 8,
   "metadata": {
    "collapsed": true
   },
   "outputs": [],
   "source": [
    "distinct_uname_sn.to_csv(\"distinct_userlist_2016062308.csv\", sep=',', encoding='utf-8')\n",
    "distinct_uname_rs.to_csv(\"distinct_userlist_rs_2016062308.csv\", sep=',', encoding='utf-8')"
   ]
  },
  {
   "cell_type": "code",
   "execution_count": null,
   "metadata": {
    "collapsed": true
   },
   "outputs": [],
   "source": [
    "\n",
    "if(1):\n",
    "    bot_data = pd.read_csv(input_file, index_col = 0)[['retweeted_status.user.screen_name']]\n",
    "    print(len(bot_data))\n",
    "else:\n",
    "    bot_data = pd.read_csv(input_file, index_col = 0)[['user.screen_name']]\n",
    "    print(len(bot_data))\n",
    "    \n",
    "for screen_name, result in bom.check_accounts_in(distinct_uname[int(sys.argv[2]):int(sys.argv[3])]):\n",
    "    botoresult=botoresult.append(result, ignore_index=True)\n",
    "\n",
    "\n",
    "output_bot=pd.concat([botoresult.user.apply(pd.Series), botoresult.scores.apply(pd.Series), botoresult.categories.apply(pd.Series)], axis=1)\n",
    "\n",
    "\n",
    "print(\"bot result :\",len(botoresult))\n",
    "print(\"bot output :\",len(output_bot))\n",
    "\n",
    "output_file=\"outputbot_\"+sys.argv[1]+\".csv\"\n",
    "output_bot.to_csv(output_file, sep=',', encoding='utf-8')\n"
   ]
  }
 ],
 "metadata": {
  "anaconda-cloud": {},
  "kernelspec": {
   "display_name": "Python [conda env:mlp]",
   "language": "python",
   "name": "conda-env-mlp-py"
  },
  "language_info": {
   "codemirror_mode": {
    "name": "ipython",
    "version": 2
   },
   "file_extension": ".py",
   "mimetype": "text/x-python",
   "name": "python",
   "nbconvert_exporter": "python",
   "pygments_lexer": "ipython2",
   "version": "2.7.12"
  }
 },
 "nbformat": 4,
 "nbformat_minor": 1
}
